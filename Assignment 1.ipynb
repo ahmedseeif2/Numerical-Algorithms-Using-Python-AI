{
 "cells": [
  {
   "cell_type": "markdown",
   "metadata": {},
   "source": [
    "What is happening in the following code? Why is B = 1.0 after the while loop?\n",
    "\n",
    "A = 9007199254740992.0 <br>\n",
    "B = 1.0 <br>\n",
    "while (((A+B)-A)-B)==0: <br>\n",
    "    print(B) <br>\n",
    "    B=B+1.0   <br>  \n",
    "print(\"A=\",A , \"log(A,2)\", log(A,2)) <br>\n",
    "print(\"B=\",B)<br>"
   ]
  },
  {
   "cell_type": "code",
   "execution_count": 3,
   "metadata": {},
   "outputs": [
    {
     "name": "stdout",
     "output_type": "stream",
     "text": [
      "A= 9007199254740992.0 | log(A,2) =  53.0\n",
      "B= 1.0\n"
     ]
    }
   ],
   "source": [
    "from math import log\n",
    "A = 9007199254740992.0\n",
    "B = 1.0\n",
    "\n",
    "while (((A+B)-A)-B)==0:\n",
    "    print(B)\n",
    "    B=B+1.0\n",
    "print(\"A=\",A ,\"|\" ,\"log(A,2) = \", log(A,2))\n",
    "print(\"B=\",B)"
   ]
  },
  {
   "cell_type": "markdown",
   "metadata": {},
   "source": [
    "first while loop will be 0 instead of -b <br>\n",
    "that means b will not changeed from 1<br>\n",
    "that happend because of rounding Error as the exponent of A =53"
   ]
  }
 ],
 "metadata": {
  "kernelspec": {
   "display_name": "Python 3",
   "language": "python",
   "name": "python3"
  },
  "language_info": {
   "codemirror_mode": {
    "name": "ipython",
    "version": 3
   },
   "file_extension": ".py",
   "mimetype": "text/x-python",
   "name": "python",
   "nbconvert_exporter": "python",
   "pygments_lexer": "ipython3",
   "version": "3.8.3"
  }
 },
 "nbformat": 4,
 "nbformat_minor": 4
}
