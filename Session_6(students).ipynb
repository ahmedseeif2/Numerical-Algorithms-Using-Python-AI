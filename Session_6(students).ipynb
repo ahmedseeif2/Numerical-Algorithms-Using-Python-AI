{
 "cells": [
  {
   "cell_type": "code",
   "execution_count": null,
   "id": "excessive-hepatitis",
   "metadata": {},
   "outputs": [],
   "source": [
    "import numpy as np\n",
    "import matplotlib.pyplot as plt\n",
    "from mpl_toolkits.mplot3d import Axes3D"
   ]
  },
  {
   "cell_type": "code",
   "execution_count": null,
   "id": "closing-plymouth",
   "metadata": {},
   "outputs": [],
   "source": [
    "def Q(x):\n",
    "    x1 = x[0]\n",
    "    x2 = x[1]\n",
    "    return 1.5 * x1**2 + x2**2 + x1*x2 + x1 + x2"
   ]
  },
  {
   "cell_type": "code",
   "execution_count": null,
   "id": "artistic-rally",
   "metadata": {},
   "outputs": [],
   "source": [
    "%matplotlib qt\n",
    "LB = -5\n",
    "UB = 5\n",
    "x = np.linspace(LB, UB, 50)\n",
    "y = np.linspace(LB, UB, 50)\n",
    "X, Y = np.meshgrid(x, y)\n",
    "\n",
    "Z = Q([X, Y])\n",
    "\n",
    "fig = plt.figure(figsize=(10,8))\n",
    "ax1 = fig.add_subplot(121, projection='3d')\n",
    "ax1.plot_surface(X, Y, Z)\n",
    "\n",
    "ax2 = fig.add_subplot(122, projection='3d')\n",
    "ax2.contour3D(X, Y, Z, levels=30)\n",
    "\n",
    "plt.show()"
   ]
  },
  {
   "cell_type": "code",
   "execution_count": null,
   "id": "acting-cornwall",
   "metadata": {},
   "outputs": [],
   "source": [
    "fig = plt.figure(figsize=(10,8))\n",
    "ax = fig.add_subplot(111)\n",
    "ax.contour(X, Y, Z, levels=30)\n",
    "plt.show()"
   ]
  },
  {
   "cell_type": "code",
   "execution_count": null,
   "id": "cooperative-endorsement",
   "metadata": {},
   "outputs": [],
   "source": [
    "from scipy.optimize import minimize"
   ]
  },
  {
   "cell_type": "code",
   "execution_count": null,
   "id": "billion-price",
   "metadata": {},
   "outputs": [],
   "source": [
    "x0 = np.array([-2, -2])\n",
    "res = minimize(Q, x0, method='Powell', options={'disp':True, 'return_all':True})\n",
    "xs = res.allvecs\n",
    "\n",
    "\n",
    "LB = -5\n",
    "UB = 5\n",
    "x = np.linspace(LB, UB, 50)\n",
    "y = np.linspace(LB, UB, 50)\n",
    "X, Y = np.meshgrid(x, y)\n",
    "\n",
    "Z = Q([X, Y])\n",
    "\n",
    "fig = plt.figure(figsize=(10,8))\n",
    "ax1 = fig.add_subplot(111)\n",
    "ax1.contour(X, Y, Z, levels=20)\n",
    "ax1.scatter([x[0] for x in xs], [x[1] for x in xs], c=list(range(len(res.allvecs))), marker='x')\n",
    "\n",
    "plt.show()\n"
   ]
  },
  {
   "cell_type": "code",
   "execution_count": null,
   "id": "activated-silence",
   "metadata": {},
   "outputs": [],
   "source": [
    "def F(x):\n",
    "    return 100*(x[1] - x[0]**2)**2 + (1-x[0])**2\n",
    "\n",
    "x0 = np.array([-2, -2])\n",
    "res = minimize(F, x0, method='Powell', options={'disp':True, 'return_all':True})\n",
    "xs = res.allvecs\n",
    "\n",
    "\n",
    "LB = -5\n",
    "UB = 5\n",
    "x = np.linspace(LB, UB, 50)\n",
    "y = np.linspace(LB, UB, 50)\n",
    "X, Y = np.meshgrid(x, y)\n",
    "\n",
    "Z = F([X, Y])\n",
    "\n",
    "fig = plt.figure(figsize=(10,8))\n",
    "ax1 = fig.add_subplot(111, projection='3d')\n",
    "ax1.contour3D(X, Y, Z, levels=20)\n",
    "ax1.scatter([x[0] for x in xs], [x[1] for x in xs], c=list(range(len(res.allvecs))), marker='x')\n",
    "\n",
    "plt.show()\n",
    "\n",
    "print(res.x)"
   ]
  },
  {
   "cell_type": "code",
   "execution_count": null,
   "id": "after-cannon",
   "metadata": {},
   "outputs": [],
   "source": []
  },
  {
   "cell_type": "code",
   "execution_count": null,
   "id": "monetary-office",
   "metadata": {},
   "outputs": [],
   "source": []
  }
 ],
 "metadata": {
  "kernelspec": {
   "name": "python3",
   "display_name": "Python 3.8.2 64-bit ('opencv': conda)"
  },
  "language_info": {
   "codemirror_mode": {
    "name": "ipython",
    "version": 3
   },
   "file_extension": ".py",
   "mimetype": "text/x-python",
   "name": "python",
   "nbconvert_exporter": "python",
   "pygments_lexer": "ipython3",
   "version": "3.8.2"
  },
  "interpreter": {
   "hash": "4367693f1f500ff89a0c2d5a71b074ddcee2345c91c5f6241f1b0759e4c37ca2"
  }
 },
 "nbformat": 4,
 "nbformat_minor": 5
}