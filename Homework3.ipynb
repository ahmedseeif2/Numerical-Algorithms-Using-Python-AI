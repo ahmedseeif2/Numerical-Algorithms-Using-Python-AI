{
 "cells": [
  {
   "cell_type": "code",
   "execution_count": null,
   "metadata": {},
   "outputs": [],
   "source": [
    "Question 1"
   ]
  },
  {
   "cell_type": "code",
   "execution_count": null,
   "metadata": {},
   "outputs": [],
   "source": [
    "the Gauss-Seidel method converges faster than the Jacobi method as shown :\n",
    "The Gauss-Seidel uses updated values as soon as they are available. \n"
   ]
  },
  {
   "cell_type": "code",
   "execution_count": null,
   "metadata": {},
   "outputs": [],
   "source": [
    "p1=(p2+p3)/4\n",
    "p2=(p1+p3+p4+p5)/5\n",
    "p3=(p1+p2+p6+p5)/5\n",
    "p4=(p2+p5+p7+p8)/5\n",
    "p5=(p2+p3+p4+p6+p8+p9)/6\n",
    "p6=(p5+p3+p9+p10)/5\n",
    "p7=(4+p4+p8)/4\n",
    "p8=(5+p4+p5+p7+p9)/5\n",
    "p9=(5+p6+p5+p8+p10)/5\n",
    "p10=(4+p6+p9)/4\n",
    "\n",
    "\n",
    "\n"
   ]
  },
  {
   "cell_type": "code",
   "execution_count": null,
   "metadata": {},
   "outputs": [],
   "source": [
    "JACOBI METHOD"
   ]
  },
  {
   "cell_type": "code",
   "execution_count": 16,
   "metadata": {},
   "outputs": [
    {
     "name": "stdout",
     "output_type": "stream",
     "text": [
      "[[0.08857212]\n",
      " [0.17784873]\n",
      " [0.17784873]\n",
      " [0.29549578]\n",
      " [0.33008541]\n",
      " [0.29549578]\n",
      " [0.453278  ]\n",
      " [0.51902519]\n",
      " [0.51902519]\n",
      " [0.453278  ]]\n"
     ]
    },
    {
     "data": {
      "text/plain": [
       "array([[0.09019608],\n",
       "       [0.18039216],\n",
       "       [0.18039216],\n",
       "       [0.29803922],\n",
       "       [0.33333333],\n",
       "       [0.29803922],\n",
       "       [0.45490196],\n",
       "       [0.52156863],\n",
       "       [0.52156863],\n",
       "       [0.45490196]])"
      ]
     },
     "execution_count": 16,
     "metadata": {},
     "output_type": "execute_result"
    }
   ],
   "source": [
    "import numpy as np\n",
    "from numpy.linalg import inv,solve\n",
    "def jacobi(A,b,N):\n",
    "    x= np.zeros_like(b)\n",
    "    D=np.diag(A)\n",
    "    A_Without_D= A-np.diag(D)\n",
    "    for i in range (N):\n",
    "        x= inv(np.diag(D)).dot(b- (A_Without_D).dot(x))\n",
    "    return x\n",
    "A=[[4,-1,-1,0,0,0,0,0,0,0],[-1,5,-1,-1,-1,0,0,0,0,0],[-1,-1,5,0,-1,-1,0,0,0,0],[0,-1,0,5,-1,0,-1,-1,0,0],[0,-1,-1,-1,6,-1,0,-1,-1,0],[0,0,-1,0,-1,5,0,0,-1,-1],[0,0,0,-1,0,0,4,-1,0,0],[0,0,0,-1,-1,0,-1,5,-1,0],[0,0,0,0,-1,-1,0,-1,5,-1],[0,0,0,0,0,-1,0,0,-1,4]]\n",
    "b=[[0],[0],[0],[0],[0],[0],[1],[1],[1],[1]]\n",
    "\n",
    "# print (A)\n",
    "print(jacobi(A,b,20))\n",
    "solve(A,b)"
   ]
  },
  {
   "cell_type": "code",
   "execution_count": null,
   "metadata": {},
   "outputs": [],
   "source": [
    "GAUSS-SEIDEL METHOD"
   ]
  },
  {
   "cell_type": "code",
   "execution_count": 15,
   "metadata": {},
   "outputs": [
    {
     "name": "stdout",
     "output_type": "stream",
     "text": [
      "[[0.09016401]\n",
      " [0.18034936]\n",
      " [0.1803558 ]\n",
      " [0.29800286]\n",
      " [0.33329375]\n",
      " [0.2980128 ]\n",
      " [0.45488217]\n",
      " [0.52154221]\n",
      " [0.52154619]\n",
      " [0.45488975]]\n"
     ]
    },
    {
     "data": {
      "text/plain": [
       "array([[0.09019608],\n",
       "       [0.18039216],\n",
       "       [0.18039216],\n",
       "       [0.29803922],\n",
       "       [0.33333333],\n",
       "       [0.29803922],\n",
       "       [0.45490196],\n",
       "       [0.52156863],\n",
       "       [0.52156863],\n",
       "       [0.45490196]])"
      ]
     },
     "execution_count": 15,
     "metadata": {},
     "output_type": "execute_result"
    }
   ],
   "source": [
    "import numpy as np\n",
    "from numpy.linalg import inv,solve\n",
    "def siedel(A,b,N):\n",
    "    x= np.zeros_like(b)\n",
    "    LD=np.tril(A)\n",
    "    U=A -LD\n",
    "    LDinv= inv(LD)\n",
    "    for i in range (N):\n",
    "        x= LDinv @ (b- U@x)\n",
    "    return x\n",
    "A=[[4,-1,-1,0,0,0,0,0,0,0],[-1,5,-1,-1,-1,0,0,0,0,0],[-1,-1,5,0,-1,-1,0,0,0,0],[0,-1,0,5,-1,0,-1,-1,0,0],[0,-1,-1,-1,6,-1,0,-1,-1,0],[0,0,-1,0,-1,5,0,0,-1,-1],[0,0,0,-1,0,0,4,-1,0,0],[0,0,0,-1,-1,0,-1,5,-1,0],[0,0,0,0,-1,-1,0,-1,5,-1],[0,0,0,0,0,-1,0,0,-1,4]]\n",
    "b=[[0],[0],[0],[0],[0],[0],[1],[1],[1],[1]]\n",
    "\n",
    "# print (A)\n",
    "print(siedel(A,b,20))\n",
    "solve(A,b)"
   ]
  },
  {
   "cell_type": "code",
   "execution_count": null,
   "metadata": {},
   "outputs": [],
   "source": [
    "The Gauss-Seidel uses updated values as soon as they are available. \n",
    "the Gauss-Seidel method converges faster than the Jacobi method."
   ]
  },
  {
   "cell_type": "code",
   "execution_count": null,
   "metadata": {},
   "outputs": [],
   "source": []
  },
  {
   "cell_type": "code",
   "execution_count": null,
   "metadata": {},
   "outputs": [],
   "source": []
  },
  {
   "cell_type": "code",
   "execution_count": null,
   "metadata": {},
   "outputs": [],
   "source": []
  },
  {
   "cell_type": "code",
   "execution_count": null,
   "metadata": {},
   "outputs": [],
   "source": [
    "Question 2"
   ]
  },
  {
   "cell_type": "code",
   "execution_count": 18,
   "metadata": {},
   "outputs": [
    {
     "name": "stdout",
     "output_type": "stream",
     "text": [
      "Eigenvalue: 0.9285714285714286\n",
      "Eigenvector: [1.         0.53846154 0.16346154]\n"
     ]
    }
   ],
   "source": [
    "import numpy as np\n",
    "def normalize(x):\n",
    "    fac = abs(x).max()\n",
    "    x_normalize = x / x.max()\n",
    "    return fac, x_normalize\n",
    "x = np.array([1, 1, 1])\n",
    "A = np.array([[0, 1,2], \n",
    "              [0.5, 0,0],[0, 0.25,0]])\n",
    "\n",
    "for i in range(8):\n",
    "    x = np.dot(A, x)\n",
    "    lambda_1, x = normalize(x)\n",
    "    \n",
    "print('Eigenvalue:', lambda_1)\n",
    "print('Eigenvector:', x)"
   ]
  },
  {
   "cell_type": "code",
   "execution_count": null,
   "metadata": {},
   "outputs": [],
   "source": []
  },
  {
   "cell_type": "code",
   "execution_count": 26,
   "metadata": {},
   "outputs": [
    {
     "name": "stdout",
     "output_type": "stream",
     "text": [
      "[ 0.88464618+0.j        -0.44232309+0.2948714j -0.44232309-0.2948714j]\n",
      "[[-0.86227396+0.j          0.69332593+0.j          0.69332593-0.j        ]\n",
      " [-0.48735527+0.j         -0.54259608-0.36171765j -0.54259608+0.36171765j]\n",
      " [-0.13772604+0.j          0.11796101+0.28307982j  0.11796101-0.28307982j]]\n"
     ]
    }
   ],
   "source": [
    "from numpy import linalg as LA\n",
    "\n",
    "w, v = LA.eig(np.array([[0, 1,2], \n",
    "              [0.5, 0,0],[0, 0.25,0]]))\n",
    "print(w)\n",
    "print(v)"
   ]
  },
  {
   "cell_type": "code",
   "execution_count": null,
   "metadata": {},
   "outputs": [],
   "source": []
  },
  {
   "cell_type": "code",
   "execution_count": 19,
   "metadata": {},
   "outputs": [
    {
     "name": "stdout",
     "output_type": "stream",
     "text": [
      "Eigenvalue: 1.8600746268656718\n",
      "Eigenvector: [1.         0.26880642 0.05892678]\n"
     ]
    }
   ],
   "source": [
    "import numpy as np\n",
    "def normalize(x):\n",
    "    fac = abs(x).max()\n",
    "    x_n = x / x.max()\n",
    "    return fac, x_n\n",
    "x = np.array([1, 1, 1])\n",
    "A = np.array([[0, 6,8], \n",
    "              [0.5, 0,0],[0, 0.5,0]])\n",
    "\n",
    "for i in range(8):\n",
    "    x = np.dot(A, x)\n",
    "    lambda_1, x = normalize(x)\n",
    "    \n",
    "print('Eigenvalue:', lambda_1)\n",
    "print('Eigenvector:', x)"
   ]
  },
  {
   "cell_type": "code",
   "execution_count": null,
   "metadata": {},
   "outputs": [],
   "source": []
  },
  {
   "cell_type": "code",
   "execution_count": 27,
   "metadata": {},
   "outputs": [
    {
     "name": "stdout",
     "output_type": "stream",
     "text": [
      "[ 2.         -0.99999998 -1.00000002]\n",
      "[[-0.96836405  0.87287156 -0.87287156]\n",
      " [-0.24209101 -0.43643579  0.43643578]\n",
      " [-0.06052275  0.2182179  -0.21821788]]\n"
     ]
    }
   ],
   "source": [
    "from numpy import linalg as LA\n",
    "\n",
    "w, v = LA.eig(np.array([[0, 6,8], \n",
    "              [0.5, 0,0],[0, 0.5,0]]))\n",
    "print(w)\n",
    "print(v)"
   ]
  },
  {
   "cell_type": "code",
   "execution_count": null,
   "metadata": {},
   "outputs": [],
   "source": []
  }
 ],
 "metadata": {
  "kernelspec": {
   "display_name": "Python 3",
   "language": "python",
   "name": "python3"
  },
  "language_info": {
   "codemirror_mode": {
    "name": "ipython",
    "version": 3
   },
   "file_extension": ".py",
   "mimetype": "text/x-python",
   "name": "python",
   "nbconvert_exporter": "python",
   "pygments_lexer": "ipython3",
   "version": "3.8.5"
  }
 },
 "nbformat": 4,
 "nbformat_minor": 4
}
