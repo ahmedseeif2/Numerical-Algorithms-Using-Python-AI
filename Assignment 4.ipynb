{
 "cells": [
  {
   "cell_type": "code",
   "execution_count": 1,
   "metadata": {},
   "outputs": [],
   "source": [
    "#import needed libs\n",
    "import numpy as np\n",
    "import pandas as pd\n",
    "\n",
    "from sklearn import datasets\n",
    "import matplotlib.pyplot as plt"
   ]
  },
  {
   "cell_type": "markdown",
   "metadata": {},
   "source": [
    "## load the data "
   ]
  },
  {
   "cell_type": "code",
   "execution_count": 2,
   "metadata": {},
   "outputs": [],
   "source": [
    "iris = datasets.load_iris()\n",
    "iris_data = iris.data\n",
    "iris_target = iris.target"
   ]
  },
  {
   "cell_type": "markdown",
   "metadata": {},
   "source": [
    "Note <br>\n",
    "i used the numpy function as it wasn't any thing against using it "
   ]
  },
  {
   "cell_type": "markdown",
   "metadata": {},
   "source": [
    "### Define a function to standardize the dataset."
   ]
  },
  {
   "cell_type": "code",
   "execution_count": 3,
   "metadata": {},
   "outputs": [],
   "source": [
    "def standardize(M):\n",
    "    from copy import deepcopy\n",
    "    M = M.astype(float)\n",
    "    standarized = deepcopy(M)\n",
    "    \n",
    "    for col in range(np.shape(M)[1]):\n",
    "        col_m = np.mean(M[:, col])\n",
    "        col_stddev = np.std(M[:, col])\n",
    "        \n",
    "        for row in range(np.shape(M)[0]):\n",
    "            standarized[row,col] = (M[row,col] - col_m) / col_stddev\n",
    "    return standarized"
   ]
  },
  {
   "cell_type": "markdown",
   "metadata": {},
   "source": [
    "### Calculate covariance matrix using the formula: $C = \\frac{X^TX}{n}$\n",
    "##### This formula is used because the data has <b>zero</b> mean and <b>1</b> standard deviation."
   ]
  },
  {
   "cell_type": "code",
   "execution_count": 4,
   "metadata": {},
   "outputs": [],
   "source": [
    "#this function will standrize the matrix before using it \n",
    "def covariance(M):\n",
    "    standardized = standardize(M)\n",
    "    return ((standardized.T @ standardized) / np.shape(M)[0])\n",
    "    "
   ]
  },
  {
   "cell_type": "markdown",
   "metadata": {},
   "source": [
    "### Find eigen values and the corresponding eigen vectors for the covariance matrix"
   ]
  },
  {
   "cell_type": "code",
   "execution_count": 5,
   "metadata": {
    "scrolled": true
   },
   "outputs": [],
   "source": [
    "# values, vectors = np.linalg.eig(the output)"
   ]
  },
  {
   "cell_type": "code",
   "execution_count": 6,
   "metadata": {},
   "outputs": [
    {
     "data": {
      "text/plain": [
       "array([[ 1.        , -0.11756978,  0.87175378,  0.81794113],\n",
       "       [-0.11756978,  1.        , -0.4284401 , -0.36612593],\n",
       "       [ 0.87175378, -0.4284401 ,  1.        ,  0.96286543],\n",
       "       [ 0.81794113, -0.36612593,  0.96286543,  1.        ]])"
      ]
     },
     "execution_count": 6,
     "metadata": {},
     "output_type": "execute_result"
    }
   ],
   "source": [
    "covariance(iris_data)"
   ]
  },
  {
   "cell_type": "markdown",
   "metadata": {},
   "source": [
    "# making then into just one big function"
   ]
  },
  {
   "cell_type": "code",
   "execution_count": 7,
   "metadata": {},
   "outputs": [],
   "source": [
    "def PCA(data,Percentage = 0.95):\n",
    "    \n",
    "    from copy import deepcopy\n",
    "    \n",
    "    data = data.astype(float)\n",
    "    \n",
    "    #creat a copy\n",
    "    standarized = deepcopy(data)\n",
    "    \n",
    "    for col in range(np.shape(data)[1]):\n",
    "        col_m = np.mean(data[:, col])\n",
    "        col_stddev = np.std(data[:, col])\n",
    "        \n",
    "        for row in range(np.shape(data)[0]):\n",
    "            standarized[row,col] = (data[row,col] - col_m) / col_stddev\n",
    "    \n",
    "\n",
    "    covariance_matrix  = ((standarized.T @ standarized) / np.shape(data)[0])\n",
    "    \n",
    "    \n",
    "    #eigen values and the corresponding eigen vectors\n",
    "    values, vectors = np.linalg.eig(covariance_matrix)\n",
    "    \n",
    "    #calc the weight of each componet \n",
    "    weights = []\n",
    "    for i in range(len(values)):\n",
    "        weights.append(values[i] / np.sum(values))\n",
    "    \n",
    "    #get most effective PCA\n",
    "    i = 0\n",
    "    sumweights = weights[i]\n",
    "    \n",
    "    while sumweights < 0.95:\n",
    "\n",
    "        sumweights += weights[i+1]\n",
    "        i += 1\n",
    "\n",
    "    takenPCA = i+1\n",
    "    \n",
    "    projeced_points  = np.array([])\n",
    "    for i in range(takenPCA):\n",
    "        projeced_points = np.append(projeced_points, standarized.dot(vectors.T[i]),0)\n",
    "        \n",
    "    projeced_points  = projeced_points.reshape(takenPCA,data.shape[0])\n",
    "    \n",
    "    print(f\"the PCA components taken are {takenPCA}\")\n",
    "    return projeced_points\n",
    "    \n",
    "    "
   ]
  },
  {
   "cell_type": "code",
   "execution_count": 8,
   "metadata": {
    "scrolled": true
   },
   "outputs": [
    {
     "name": "stdout",
     "output_type": "stream",
     "text": [
      "the PCA components taken are 2\n"
     ]
    }
   ],
   "source": [
    "final_PC = PCA(iris_data)"
   ]
  },
  {
   "cell_type": "markdown",
   "metadata": {},
   "source": [
    "### plot the data \n",
    "couldn't make into function but i will try in the future and it's not the current course requirements "
   ]
  },
  {
   "cell_type": "code",
   "execution_count": 9,
   "metadata": {},
   "outputs": [
    {
     "data": {
      "image/png": "[encoded data removed]",
      "text/plain": [
       "<Figure size 864x576 with 1 Axes>"
      ]
     },
     "metadata": {
      "needs_background": "light"
     },
     "output_type": "display_data"
    }
   ],
   "source": [
    "fig, ax = plt.subplots(figsize=(12, 8))\n",
    "setosa = plt.scatter(final_PC[0][iris_target==0], final_PC[1][iris_target==0],  color=\"b\")\n",
    "versicolor = plt.scatter(final_PC[0][iris_target==1], final_PC[1][iris_target==1],  color=\"r\")\n",
    "virginica  = plt.scatter(final_PC[0][iris_target==2], final_PC[1][iris_target==2],  color='g')\n",
    "\n",
    "plt.legend((setosa, versicolor, virginica),\n",
    "           ('setosa', 'versicolor', 'virginica'),\n",
    "           scatterpoints=1,\n",
    "           loc='upper right',\n",
    "           ncol=1,\n",
    "           fontsize=10)\n",
    "plt.xlabel('PC1')\n",
    "plt.ylabel('PC2')\n",
    "\n",
    "plt.show()"
   ]
  },
  {
   "cell_type": "markdown",
   "metadata": {},
   "source": [
    "i will be more than happy to hear any feedback about what i could have done better <3 "
   ]
  }
 ],
 "metadata": {
  "kernelspec": {
   "display_name": "Python 3",
   "language": "python",
   "name": "python3"
  },
  "language_info": {
   "codemirror_mode": {
    "name": "ipython",
    "version": 3
   },
   "file_extension": ".py",
   "mimetype": "text/x-python",
   "name": "python",
   "nbconvert_exporter": "python",
   "pygments_lexer": "ipython3",
   "version": "3.8.3"
  }
 },
 "nbformat": 4,
 "nbformat_minor": 4
}
