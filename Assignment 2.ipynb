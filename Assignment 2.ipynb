{
 "cells": [
  {
   "attachments": {
    "image.png": {
     "image/png": "[encoded data removed]"
    }
   },
   "cell_type": "markdown",
   "metadata": {},
   "source": [
    "### Question 1 (easy) <br>\n",
    "Find the roots of in the interval using the<br>\n",
    "![image.png](attachment:image.png)\n",
    "1. Bisection Method\n",
    "2. Fixed-Point Method (find a proper g(x) )\n",
    "3. Newton's Method (use initial guess of-3 )<br>\n",
    "with tolerance of 10^-5 . Write your code and the final answer. Also, report how\n",
    "many iterations did each algorithm take to reach the final answer."
   ]
  },
  {
   "cell_type": "markdown",
   "metadata": {},
   "source": [
    "##### bisection method"
   ]
  },
  {
   "cell_type": "markdown",
   "metadata": {},
   "source": [
    "define F (x)"
   ]
  },
  {
   "cell_type": "code",
   "execution_count": 1,
   "metadata": {},
   "outputs": [],
   "source": [
    "def f(x):\n",
    "    return 2*x**2+6*x+4"
   ]
  },
  {
   "cell_type": "code",
   "execution_count": 2,
   "metadata": {},
   "outputs": [],
   "source": [
    "def bisection(a,b,epsilon):\n",
    "    count = 0\n",
    "    while abs(a-b)>epsilon:\n",
    "        \n",
    "        g = (a+b)/2\n",
    "        if f(a)*f(g)<0:\n",
    "            b = g\n",
    "        else:\n",
    "            a = g\n",
    "        count +=1\n",
    "    return g , count\n",
    "\n"
   ]
  },
  {
   "cell_type": "code",
   "execution_count": 3,
   "metadata": {},
   "outputs": [
    {
     "name": "stdout",
     "output_type": "stream",
     "text": [
      "root = -2.0000038146972656  iterations = 18\n"
     ]
    }
   ],
   "source": [
    "answers = bisection(-1.2,-3,1e-5)\n",
    "print(\"root =\", answers[0],\" iterations =\",answers[1] )"
   ]
  },
  {
   "cell_type": "code",
   "execution_count": 4,
   "metadata": {},
   "outputs": [
    {
     "name": "stdout",
     "output_type": "stream",
     "text": [
      "root = -1.0000019073486328  iterations = 18\n"
     ]
    }
   ],
   "source": [
    "answers = bisection(-1.5,0,1e-5)\n",
    "print(\"root =\", answers[0],\" iterations =\",answers[1] )"
   ]
  },
  {
   "cell_type": "markdown",
   "metadata": {},
   "source": [
    "##### Fixed-Point Method"
   ]
  },
  {
   "cell_type": "markdown",
   "metadata": {},
   "source": [
    "x = (2x^2 +4) / 6 \n",
    "define g(x)"
   ]
  },
  {
   "cell_type": "code",
   "execution_count": 5,
   "metadata": {},
   "outputs": [],
   "source": [
    "def g(x):\n",
    "    return (2*x**2+4)/6"
   ]
  },
  {
   "cell_type": "code",
   "execution_count": 6,
   "metadata": {},
   "outputs": [],
   "source": [
    "def Fixed_point(p,epsilon):\n",
    "    count = 0\n",
    "    p1 = p\n",
    "    p2 = g(p1)\n",
    "    while abs(p1-p2)>epsilon:\n",
    "        p1 = p2\n",
    "        p2 = g(p1)\n",
    "        count +=1\n",
    "    return p2 , count\n"
   ]
  },
  {
   "cell_type": "code",
   "execution_count": 7,
   "metadata": {},
   "outputs": [
    {
     "name": "stdout",
     "output_type": "stream",
     "text": [
      "root = 1.0000162099453607  iterations = 27\n"
     ]
    }
   ],
   "source": [
    "answers = Fixed_point(-1.5,1e-5)\n",
    "print(\"root =\", answers[0],\" iterations =\",answers[1] )"
   ]
  },
  {
   "cell_type": "markdown",
   "metadata": {},
   "source": [
    "#### Newton's Method"
   ]
  },
  {
   "cell_type": "code",
   "execution_count": 8,
   "metadata": {},
   "outputs": [],
   "source": [
    "def f(x):\n",
    "    return 2*x**2+6*x+4\n",
    "\n",
    "def df(x):\n",
    "    return 4*x+6\n",
    "\n",
    "def Newton(p,epsilon):\n",
    "    count = 0\n",
    "    x1 = p\n",
    "    x2 = x1-(f(x1)/df(x1))\n",
    "    while abs(x1-x2)>=epsilon:\n",
    "        x1 = x2\n",
    "        x2 = x1-(f(x1)/df(x1))\n",
    "        count +=1\n",
    "    return x2,count"
   ]
  },
  {
   "cell_type": "code",
   "execution_count": 9,
   "metadata": {},
   "outputs": [
    {
     "name": "stdout",
     "output_type": "stream",
     "text": [
      "root = -2.0  iterations = 5\n"
     ]
    }
   ],
   "source": [
    "answers = Newton(-3,1e-5)\n",
    "print(\"root =\", answers[0],\" iterations =\",answers[1] )"
   ]
  },
  {
   "attachments": {
    "image-2.png": {
     "image/png": "[encoded data removed]"
    },
    "image-3.png": {
     "image/png": "[encoded data removed]"
    },
    "image.png": {
     "image/png": "[encoded data removed]"
    }
   },
   "cell_type": "markdown",
   "metadata": {},
   "source": [
    "### Question 2 (easy)\n",
    "In Session 2, we solved the equation![image.png](attachment:image.png) by defining \n",
    "\n",
    "![image-2.png](attachment:image-2.png)  ![image-3.png](attachment:image-3.png)\n",
    " and solving the equation using the <br> **Fixed Point method** in <\n",
    "the **interval[2, 3]** <br>\n",
    "Now, try a different  g(x) and write the steps you followed to \n",
    "check if it meets the algorithm's conditions, write your code, and write the \n",
    "found answer."
   ]
  },
  {
   "cell_type": "markdown",
   "metadata": {},
   "source": [
    "#### Fixed Point"
   ]
  },
  {
   "cell_type": "code",
   "execution_count": 10,
   "metadata": {},
   "outputs": [],
   "source": [
    "import numpy as np\n",
    "def g(x):\n",
    "    return (np.exp(x)+2)/5\n",
    "\n",
    "def fixed_point(p, epsilon):\n",
    "    count = 0\n",
    "    p1 = p\n",
    "    p2 = g(p1)\n",
    "    while abs(p2 - p1) > epsilon:\n",
    "        p1 = p2 \n",
    "        p2 = g(p1)\n",
    "    count =+1\n",
    "    return p2,count\n",
    "\n"
   ]
  },
  {
   "cell_type": "code",
   "execution_count": 11,
   "metadata": {},
   "outputs": [
    {
     "name": "stdout",
     "output_type": "stream",
     "text": [
      "root = 0.8842242800356657  iterations = 1\n"
     ]
    }
   ],
   "source": [
    "answers = fixed_point(2, 1e-5)\n",
    "print(\"root =\", answers[0],\" iterations =\",answers[1] )"
   ]
  },
  {
   "attachments": {
    "image.png": {
     "image/png": "[encoded data removed]"
    }
   },
   "cell_type": "markdown",
   "metadata": {},
   "source": [
    "### Question 3 (easy)\n",
    "Find the roots  ex − 5x + 2 of in the interval using [2, 3] <br>\n",
    "![image.png](attachment:image.png)\n",
    "1. Bisection Method\n",
    "2. Newton's Method, but use the initial guess of 1. What happens? Why?"
   ]
  },
  {
   "cell_type": "markdown",
   "metadata": {},
   "source": [
    "#### Bisection Method"
   ]
  },
  {
   "cell_type": "code",
   "execution_count": 12,
   "metadata": {},
   "outputs": [],
   "source": [
    "def f(x):\n",
    "    return np.exp(x)-5*x+2\n",
    "\n",
    "def bisection(a,b,epsilon):\n",
    "    count = 0\n",
    "    while abs(a-b)>epsilon:\n",
    "        g = (a+b)/2\n",
    "        if f(a)*f(g)<0:\n",
    "            b = g\n",
    "        else:\n",
    "            a = g\n",
    "        count +=1\n",
    "    \n",
    "    return g ,count"
   ]
  },
  {
   "cell_type": "code",
   "execution_count": 13,
   "metadata": {},
   "outputs": [
    {
     "name": "stdout",
     "output_type": "stream",
     "text": [
      "root = 0.8842220306396484  iterations = 18\n"
     ]
    }
   ],
   "source": [
    "answers = bisection(0,1.5,1e-5)\n",
    "print(\"root =\", answers[0],\" iterations =\",answers[1] )"
   ]
  },
  {
   "cell_type": "markdown",
   "metadata": {},
   "source": [
    "#### Newton's Method"
   ]
  },
  {
   "cell_type": "code",
   "execution_count": 14,
   "metadata": {},
   "outputs": [],
   "source": [
    "def f(x):\n",
    "    return np.exp(x)-5*x+2\n",
    "def df(x):\n",
    "    return np.exp(x)-5\n",
    "epsilon= 0.00001\n",
    "def Newton(p,epsilon):\n",
    "    c = 0\n",
    "    x1 = p\n",
    "    x2 = x1-(f(x1)/df(x1))\n",
    "    while abs(x1-x2)>epsilon:\n",
    "        x1 = x2\n",
    "        x2 = x1-(f(x1)/df(x1))\n",
    "        c +=1\n",
    "    \n",
    "    return x2 , c\n"
   ]
  },
  {
   "cell_type": "code",
   "execution_count": 15,
   "metadata": {
    "scrolled": true
   },
   "outputs": [
    {
     "name": "stdout",
     "output_type": "stream",
     "text": [
      "root = 0.8842181389559761  iterations = 3\n"
     ]
    }
   ],
   "source": [
    "answers = Newton(1,1e-5)\n",
    "print(\"root =\", answers[0],\" iterations =\",answers[1] )"
   ]
  },
  {
   "cell_type": "markdown",
   "metadata": {},
   "source": [
    " Applying the Bisection method on a flat function that converges in a range\n",
    "wouldn’t give an accurate solution"
   ]
  },
  {
   "attachments": {
    "image.png": {
     "image/png": "[encoded data removed]"
    }
   },
   "cell_type": "markdown",
   "metadata": {},
   "source": [
    "### Question 4 (medium)\n",
    "Solve the the Fibonacci equation 12th century) ![image.png](attachment:image.png) Compute one solution using any of the 3 methods. Write your code and the final answer"
   ]
  },
  {
   "cell_type": "markdown",
   "metadata": {},
   "source": [
    "#### Bisection Method"
   ]
  },
  {
   "cell_type": "code",
   "execution_count": 16,
   "metadata": {},
   "outputs": [],
   "source": [
    "def f(x):\n",
    "    return x**3 +2*x**2 + 10*x - 20\n",
    "\n",
    "def bisection(a,b,epsilon):\n",
    "    count = 0\n",
    "    while abs(a-b)>epsilon:\n",
    "        g = (a+b)/2\n",
    "        if f(a)*f(g)<0:\n",
    "            b = g\n",
    "        else:\n",
    "            a = g\n",
    "        count +=1\n",
    "    return g ,count"
   ]
  },
  {
   "cell_type": "code",
   "execution_count": 17,
   "metadata": {
    "scrolled": true
   },
   "outputs": [
    {
     "name": "stdout",
     "output_type": "stream",
     "text": [
      "root = 1.3688106536865234  iterations = 19\n"
     ]
    }
   ],
   "source": [
    "answers = bisection(0,3,1e-5)\n",
    "print(\"root =\", answers[0],\" iterations =\",answers[1] )"
   ]
  },
  {
   "cell_type": "markdown",
   "metadata": {},
   "source": [
    "#### Newton's Method"
   ]
  },
  {
   "cell_type": "code",
   "execution_count": 18,
   "metadata": {},
   "outputs": [],
   "source": [
    "def f(x):\n",
    "    return x**3 +2*x**2 + 10*x - 20\n",
    "def df(x):\n",
    "    return 3*x**2 + 4*x**1 + 10\n",
    "\n",
    "def Newton(p,epsilon):\n",
    "    c = 0\n",
    "    x1 = p\n",
    "    x2 = x1-(f(x1)/df(x1))\n",
    "    while abs(x1-x2)>epsilon:\n",
    "        x1 = x2\n",
    "        x2 = x1-(f(x1)/df(x1))\n",
    "        c +=1\n",
    "    \n",
    "    return x2 , c\n"
   ]
  },
  {
   "cell_type": "code",
   "execution_count": 19,
   "metadata": {
    "scrolled": true
   },
   "outputs": [
    {
     "name": "stdout",
     "output_type": "stream",
     "text": [
      "root = 1.3688081078226673  iterations = 3\n"
     ]
    }
   ],
   "source": [
    "answers = Newton(2,1e-5)\n",
    "print(\"root =\", answers[0],\" iterations =\",answers[1] )"
   ]
  },
  {
   "cell_type": "code",
   "execution_count": 20,
   "metadata": {},
   "outputs": [
    {
     "name": "stdout",
     "output_type": "stream",
     "text": [
      "root = 1.3688081078213745  iterations = 3\n"
     ]
    }
   ],
   "source": [
    "answers = Newton(1,1e-5)\n",
    "print(\"root =\", answers[0],\" iterations =\",answers[1] )"
   ]
  }
 ],
 "metadata": {
  "kernelspec": {
   "display_name": "Python 3",
   "language": "python",
   "name": "python3"
  },
  "language_info": {
   "codemirror_mode": {
    "name": "ipython",
    "version": 3
   },
   "file_extension": ".py",
   "mimetype": "text/x-python",
   "name": "python",
   "nbconvert_exporter": "python",
   "pygments_lexer": "ipython3",
   "version": "3.8.3"
  }
 },
 "nbformat": 4,
 "nbformat_minor": 4
}
